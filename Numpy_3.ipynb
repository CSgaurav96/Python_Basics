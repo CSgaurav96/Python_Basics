{
 "cells": [
  {
   "cell_type": "code",
   "execution_count": 1,
   "metadata": {},
   "outputs": [],
   "source": [
    "import numpy as np\n",
    "import pandas as pd"
   ]
  },
  {
   "cell_type": "markdown",
   "metadata": {},
   "source": [
    "## Create an Array "
   ]
  },
  {
   "cell_type": "markdown",
   "metadata": {},
   "source": [
    "### One Dimentional Array "
   ]
  },
  {
   "cell_type": "code",
   "execution_count": 2,
   "metadata": {},
   "outputs": [
    {
     "data": {
      "text/plain": [
       "array([1, 2, 3])"
      ]
     },
     "execution_count": 2,
     "metadata": {},
     "output_type": "execute_result"
    }
   ],
   "source": [
    "a = np.array([1,2,3])\n",
    "a"
   ]
  },
  {
   "cell_type": "markdown",
   "metadata": {},
   "source": [
    "*  Used the array() function to define new ndarray\n",
    "*  Under the array we pass a list or a tuple (but not the set): list is written in square bracket"
   ]
  },
  {
   "cell_type": "code",
   "execution_count": 3,
   "metadata": {},
   "outputs": [
    {
     "data": {
      "text/plain": [
       "array([1, 2, 3])"
      ]
     },
     "execution_count": 3,
     "metadata": {},
     "output_type": "execute_result"
    }
   ],
   "source": [
    "b = np.array((1,2,3))\n",
    "b"
   ]
  },
  {
   "cell_type": "code",
   "execution_count": 7,
   "metadata": {},
   "outputs": [
    {
     "data": {
      "text/plain": [
       "(3,)"
      ]
     },
     "execution_count": 7,
     "metadata": {},
     "output_type": "execute_result"
    }
   ],
   "source": [
    "b.shape"
   ]
  },
  {
   "cell_type": "code",
   "execution_count": 5,
   "metadata": {},
   "outputs": [
    {
     "data": {
      "text/plain": [
       "array({1, 2, 3}, dtype=object)"
      ]
     },
     "execution_count": 5,
     "metadata": {},
     "output_type": "execute_result"
    }
   ],
   "source": [
    "c = np.array({1,2,3})\n",
    "c"
   ]
  },
  {
   "cell_type": "code",
   "execution_count": 6,
   "metadata": {},
   "outputs": [
    {
     "data": {
      "text/plain": [
       "((), numpy.ndarray)"
      ]
     },
     "execution_count": 6,
     "metadata": {},
     "output_type": "execute_result"
    }
   ],
   "source": [
    "c.shape, type(c)"
   ]
  },
  {
   "cell_type": "markdown",
   "metadata": {},
   "source": [
    "### Two Dimentional Array "
   ]
  },
  {
   "cell_type": "code",
   "execution_count": 8,
   "metadata": {},
   "outputs": [
    {
     "data": {
      "text/plain": [
       "dtype('int32')"
      ]
     },
     "execution_count": 8,
     "metadata": {},
     "output_type": "execute_result"
    }
   ],
   "source": [
    "a.dtype"
   ]
  },
  {
   "cell_type": "markdown",
   "metadata": {},
   "source": [
    "* dtype is an 'attribute' not a function\n",
    "* type() : it tells the type of the object, whether that is array, list or dataframe. \n",
    "* dtypes : it tells about the datatype of elements in the array. "
   ]
  },
  {
   "cell_type": "code",
   "execution_count": 9,
   "metadata": {},
   "outputs": [
    {
     "name": "stdout",
     "output_type": "stream",
     "text": [
      "(3,) 3 1\n"
     ]
    }
   ],
   "source": [
    "print(a.shape , a.size , a.ndim) "
   ]
  },
  {
   "cell_type": "markdown",
   "metadata": {},
   "source": [
    "* 3 other attributes (its size, shape and its rank) must to know about the ndarray"
   ]
  },
  {
   "cell_type": "code",
   "execution_count": 10,
   "metadata": {},
   "outputs": [
    {
     "name": "stdout",
     "output_type": "stream",
     "text": [
      "[[1.3 2.4]\n",
      " [0.3 4.1]] (2, 2) 2 4\n"
     ]
    }
   ],
   "source": [
    "b = np.array([[1.3, 2.4], [0.3, 4.1]])\n",
    "print(b, b.shape, b.ndim , b.size)"
   ]
  },
  {
   "cell_type": "markdown",
   "metadata": {},
   "source": [
    "* Creating 2 dimentional array\n",
    "* Here there is one list which has 2 elements and both are lists. The first list becomes the first row and the second list becomes the second row\n",
    "* Here the array has 4 elements and not 2 (consider this in terms of matrix)"
   ]
  },
  {
   "cell_type": "code",
   "execution_count": null,
   "metadata": {},
   "outputs": [],
   "source": [
    "# Array function not only accepts lists but tuple as well\n",
    "a = np.array((1,2,3))\n",
    "c = np.array(((1,2,3), (4,5,6)))\n",
    "print(a.size, a.ndim, a.shape)\n",
    "print(c.size, c.ndim, c.shape)"
   ]
  },
  {
   "cell_type": "code",
   "execution_count": 11,
   "metadata": {},
   "outputs": [
    {
     "name": "stdout",
     "output_type": "stream",
     "text": [
      "[[1.+0.j 2.+0.j 3.+0.j]\n",
      " [4.+0.j 5.+0.j 6.+0.j]]\n"
     ]
    }
   ],
   "source": [
    "# By defining the datatype in the array we can define that what kind of data is there in the array.\n",
    "g = np.array([[1,2,3], [4,5,6]] , dtype = complex)    \n",
    "print(g)"
   ]
  },
  {
   "cell_type": "markdown",
   "metadata": {},
   "source": [
    "### Numbers generator "
   ]
  },
  {
   "cell_type": "markdown",
   "metadata": {},
   "source": [
    "**Non random numbers generators** "
   ]
  },
  {
   "cell_type": "code",
   "execution_count": 12,
   "metadata": {},
   "outputs": [
    {
     "data": {
      "text/plain": [
       "array([[0., 0., 0.],\n",
       "       [0., 0., 0.],\n",
       "       [0., 0., 0.]])"
      ]
     },
     "execution_count": 12,
     "metadata": {},
     "output_type": "execute_result"
    }
   ],
   "source": [
    "# the zero() function creates an array of zeros and its dimention defined by the shape argument\n",
    "np.zeros((3,3))"
   ]
  },
  {
   "cell_type": "code",
   "execution_count": 13,
   "metadata": {},
   "outputs": [
    {
     "data": {
      "text/plain": [
       "array([[1., 1., 1.],\n",
       "       [1., 1., 1.],\n",
       "       [1., 1., 1.]])"
      ]
     },
     "execution_count": 13,
     "metadata": {},
     "output_type": "execute_result"
    }
   ],
   "source": [
    "np.ones((3,3))"
   ]
  },
  {
   "cell_type": "code",
   "execution_count": 14,
   "metadata": {},
   "outputs": [
    {
     "data": {
      "text/plain": [
       "array([0, 1, 2, 3, 4, 5, 6, 7, 8, 9])"
      ]
     },
     "execution_count": 14,
     "metadata": {},
     "output_type": "execute_result"
    }
   ],
   "source": [
    "np.arange(0,10)"
   ]
  },
  {
   "cell_type": "code",
   "execution_count": 15,
   "metadata": {},
   "outputs": [
    {
     "data": {
      "text/plain": [
       "array([3, 4, 5, 6, 7, 8, 9])"
      ]
     },
     "execution_count": 15,
     "metadata": {},
     "output_type": "execute_result"
    }
   ],
   "source": [
    "# to generate an array of sequence of numbers \n",
    "# The array doesn't include the value equals to the upper limit of the range passed in this function\n",
    "np.arange(3,10)"
   ]
  },
  {
   "cell_type": "code",
   "execution_count": 27,
   "metadata": {},
   "outputs": [
    {
     "data": {
      "text/plain": [
       "array([ 2,  4,  6,  8, 10, 12, 14, 16, 18])"
      ]
     },
     "execution_count": 27,
     "metadata": {},
     "output_type": "execute_result"
    }
   ],
   "source": [
    "# Make sure that difference between subsequent numbers would be 2\n",
    "# Here we didn't defined the length of the array it would be dependent on various parameters we choose\n",
    "np.arange(2,20,2)"
   ]
  },
  {
   "cell_type": "markdown",
   "metadata": {},
   "source": [
    "**Random numbers generators**"
   ]
  },
  {
   "cell_type": "code",
   "execution_count": 16,
   "metadata": {},
   "outputs": [
    {
     "data": {
      "text/plain": [
       "array([0.06622161, 0.97431486, 0.43489051, 0.23692959])"
      ]
     },
     "execution_count": 16,
     "metadata": {},
     "output_type": "execute_result"
    }
   ],
   "source": [
    "# This is used to generate random numbers from the uniform distribution with range 0 to 1 \n",
    "# But everytime we run this code we get different set of numbers \n",
    "np.random.random(4)"
   ]
  },
  {
   "cell_type": "code",
   "execution_count": null,
   "metadata": {},
   "outputs": [],
   "source": [
    "# What if we want to get the same set of random numbers everytime\n",
    "rng = np.random.RandomState(20) # First we created an instance by defining the random state\n",
    "numbers = rng.random(3) # Used the instance to create the random numbers\n",
    "numbers"
   ]
  },
  {
   "cell_type": "markdown",
   "metadata": {},
   "source": [
    "* t0: Run the code 'rng = np.random.RandomState(20)'\n",
    "* t1: Run the code 'rng.random(3)', 3 times (or as many times you want)\n",
    "* t3: Run the code 'rng = np.random.RandomState(20)'\n",
    "* t4: Run the code 'rng.random(3)', 3 times (or as many times you want) => Here we will get the same sequence of arrays as we get in t1"
   ]
  },
  {
   "cell_type": "code",
   "execution_count": 25,
   "metadata": {},
   "outputs": [
    {
     "data": {
      "text/plain": [
       "array([0.18026969, 0.01947524, 0.46321853])"
      ]
     },
     "execution_count": 25,
     "metadata": {},
     "output_type": "execute_result"
    }
   ],
   "source": [
    "np.random.RandomState(11).random(3)"
   ]
  },
  {
   "cell_type": "code",
   "execution_count": 28,
   "metadata": {},
   "outputs": [
    {
     "data": {
      "text/plain": [
       "array([2. , 2.5, 3. , 3.5, 4. , 4.5, 5. , 5.5, 6. , 6.5, 7. , 7.5, 8. ,\n",
       "       8.5, 9. , 9.5])"
      ]
     },
     "execution_count": 28,
     "metadata": {},
     "output_type": "execute_result"
    }
   ],
   "source": [
    "np.arange(2,10,0.5)"
   ]
  },
  {
   "cell_type": "code",
   "execution_count": 29,
   "metadata": {},
   "outputs": [
    {
     "data": {
      "text/plain": [
       "array([ 0.        ,  3.33333333,  6.66666667, 10.        ])"
      ]
     },
     "execution_count": 29,
     "metadata": {},
     "output_type": "execute_result"
    }
   ],
   "source": [
    "np.linspace(0,10,4)"
   ]
  },
  {
   "cell_type": "markdown",
   "metadata": {},
   "source": [
    "* Here first 2 arguments are the range and the last argument tells that in how many pieces we need to split this range.\n",
    "* Here the upper limit can be the value in the array.\n",
    "* This will provide evenly spaced numbers. "
   ]
  },
  {
   "cell_type": "code",
   "execution_count": null,
   "metadata": {},
   "outputs": [],
   "source": [
    "# There is a module name \"numpy.random module\". And there is a function called random() in this module \n",
    "np.random.random(10)"
   ]
  },
  {
   "cell_type": "markdown",
   "metadata": {},
   "source": [
    "* Here 'numpy' is liabrary\n",
    "* 'random' is a module in the liabrary\n",
    "* Within the module 'random' we have a function called 'random()'\n",
    "* This function creates 10 random numbers between 0 and 1 "
   ]
  },
  {
   "cell_type": "code",
   "execution_count": 30,
   "metadata": {},
   "outputs": [
    {
     "name": "stdout",
     "output_type": "stream",
     "text": [
      "[[0.4760966  0.88811531]\n",
      " [0.69145872 0.50586519]\n",
      " [0.94715515 0.90743992]\n",
      " [0.60092089 0.69138807]]\n"
     ]
    }
   ],
   "source": [
    "# There are 2 ways to create a multidimentional array.\n",
    "## Define the shape within the function\n",
    "np.random.random((3,3))\n",
    "## Definie the shape at the end of the function using reshape() function\n",
    "a = np.random.random(8).reshape(4,2)\n",
    "print(a)"
   ]
  },
  {
   "cell_type": "code",
   "execution_count": 35,
   "metadata": {},
   "outputs": [
    {
     "data": {
      "text/plain": [
       "(array([0.4760966 , 0.88811531]), array([0.4760966 , 0.88811531]))"
      ]
     },
     "execution_count": 35,
     "metadata": {},
     "output_type": "execute_result"
    }
   ],
   "source": [
    "# Extracted first row\n",
    "a[0] , a[-4]"
   ]
  },
  {
   "cell_type": "code",
   "execution_count": 34,
   "metadata": {},
   "outputs": [
    {
     "data": {
      "text/plain": [
       "array([[0.69145872, 0.50586519],\n",
       "       [0.94715515, 0.90743992],\n",
       "       [0.60092089, 0.69138807]])"
      ]
     },
     "execution_count": 34,
     "metadata": {},
     "output_type": "execute_result"
    }
   ],
   "source": [
    "a[[1,2,3]]"
   ]
  },
  {
   "cell_type": "code",
   "execution_count": 36,
   "metadata": {},
   "outputs": [
    {
     "data": {
      "text/plain": [
       "array([10, 11, 12, 13, 14, 15])"
      ]
     },
     "execution_count": 36,
     "metadata": {},
     "output_type": "execute_result"
    }
   ],
   "source": [
    "a = np.arange(10,16)\n",
    "a"
   ]
  },
  {
   "cell_type": "code",
   "execution_count": 37,
   "metadata": {},
   "outputs": [
    {
     "data": {
      "text/plain": [
       "array([10, 12, 14])"
      ]
     },
     "execution_count": 37,
     "metadata": {},
     "output_type": "execute_result"
    }
   ],
   "source": [
    "# Filtering from array based on a sequence\n",
    "# 0:15 picks 5 numbers with index 0, 1, 2 ,3 & 4 which are 10,11,12,13,14. Then it picks the first number, skips the second and then picks the 3rd number\n",
    "a[0:5:2]"
   ]
  },
  {
   "cell_type": "code",
   "execution_count": 38,
   "metadata": {},
   "outputs": [
    {
     "data": {
      "text/plain": [
       "array([10, 11, 12, 13, 14])"
      ]
     },
     "execution_count": 38,
     "metadata": {},
     "output_type": "execute_result"
    }
   ],
   "source": [
    "a[0:5]"
   ]
  },
  {
   "cell_type": "code",
   "execution_count": 39,
   "metadata": {},
   "outputs": [],
   "source": [
    "# Created function and later we will pass objects for which scaler division is allowed\n",
    "def foo(x):\n",
    "    return x/2"
   ]
  },
  {
   "cell_type": "code",
   "execution_count": 41,
   "metadata": {},
   "outputs": [
    {
     "ename": "TypeError",
     "evalue": "unsupported operand type(s) for /: 'tuple' and 'int'",
     "output_type": "error",
     "traceback": [
      "\u001b[1;31m---------------------------------------------------------------------------\u001b[0m",
      "\u001b[1;31mTypeError\u001b[0m                                 Traceback (most recent call last)",
      "\u001b[1;32m<ipython-input-41-c6d06f996478>\u001b[0m in \u001b[0;36m<module>\u001b[1;34m\u001b[0m\n\u001b[0;32m      1\u001b[0m \u001b[0mt\u001b[0m \u001b[1;33m=\u001b[0m \u001b[1;33m(\u001b[0m\u001b[1;36m1\u001b[0m\u001b[1;33m,\u001b[0m\u001b[1;36m2\u001b[0m\u001b[1;33m,\u001b[0m\u001b[1;36m3\u001b[0m\u001b[1;33m)\u001b[0m\u001b[1;33m\u001b[0m\u001b[1;33m\u001b[0m\u001b[0m\n\u001b[1;32m----> 2\u001b[1;33m \u001b[0mprint\u001b[0m\u001b[1;33m(\u001b[0m\u001b[0mtype\u001b[0m\u001b[1;33m(\u001b[0m\u001b[0mt\u001b[0m\u001b[1;33m)\u001b[0m \u001b[1;33m,\u001b[0m \u001b[0mt\u001b[0m\u001b[1;33m/\u001b[0m\u001b[1;36m2\u001b[0m\u001b[1;33m)\u001b[0m\u001b[1;33m\u001b[0m\u001b[1;33m\u001b[0m\u001b[0m\n\u001b[0m\u001b[0;32m      3\u001b[0m \u001b[1;31m# For tuple the scaler multiplication or the scaler division are not allowed. Hence, the above formula would not apply here\u001b[0m\u001b[1;33m\u001b[0m\u001b[1;33m\u001b[0m\u001b[1;33m\u001b[0m\u001b[0m\n",
      "\u001b[1;31mTypeError\u001b[0m: unsupported operand type(s) for /: 'tuple' and 'int'"
     ]
    }
   ],
   "source": [
    "t = (1,2,3)\n",
    "print(type(t) , t/2)\n",
    "# For tuple the scaler multiplication or the scaler division are not allowed. Hence, the above formula would not apply here"
   ]
  },
  {
   "cell_type": "code",
   "execution_count": 40,
   "metadata": {},
   "outputs": [
    {
     "ename": "TypeError",
     "evalue": "unsupported operand type(s) for /: 'set' and 'int'",
     "output_type": "error",
     "traceback": [
      "\u001b[1;31m---------------------------------------------------------------------------\u001b[0m",
      "\u001b[1;31mTypeError\u001b[0m                                 Traceback (most recent call last)",
      "\u001b[1;32m<ipython-input-40-0b5ea906306b>\u001b[0m in \u001b[0;36m<module>\u001b[1;34m\u001b[0m\n\u001b[0;32m      1\u001b[0m \u001b[0ms\u001b[0m \u001b[1;33m=\u001b[0m \u001b[1;33m{\u001b[0m\u001b[1;36m1\u001b[0m\u001b[1;33m,\u001b[0m\u001b[1;36m2\u001b[0m\u001b[1;33m,\u001b[0m\u001b[1;36m3\u001b[0m\u001b[1;33m,\u001b[0m\u001b[1;36m4\u001b[0m\u001b[1;33m}\u001b[0m\u001b[1;33m\u001b[0m\u001b[1;33m\u001b[0m\u001b[0m\n\u001b[1;32m----> 2\u001b[1;33m \u001b[0mprint\u001b[0m\u001b[1;33m(\u001b[0m\u001b[0mtype\u001b[0m\u001b[1;33m(\u001b[0m\u001b[0ms\u001b[0m\u001b[1;33m)\u001b[0m \u001b[1;33m,\u001b[0m \u001b[0ms\u001b[0m\u001b[1;33m/\u001b[0m\u001b[1;36m2\u001b[0m\u001b[1;33m)\u001b[0m\u001b[1;33m\u001b[0m\u001b[1;33m\u001b[0m\u001b[0m\n\u001b[0m",
      "\u001b[1;31mTypeError\u001b[0m: unsupported operand type(s) for /: 'set' and 'int'"
     ]
    }
   ],
   "source": [
    "s = {1,2,3,4}\n",
    "print(type(s) , s/2)"
   ]
  },
  {
   "cell_type": "code",
   "execution_count": 42,
   "metadata": {},
   "outputs": [
    {
     "name": "stdout",
     "output_type": "stream",
     "text": [
      "<class 'numpy.ndarray'> [0.  0.5 1.  1.5 2.  2.5 3.  3.5 4.  4.5]\n"
     ]
    }
   ],
   "source": [
    "a = np.arange(10)\n",
    "print(type(a) , a/2)"
   ]
  },
  {
   "cell_type": "markdown",
   "metadata": {},
   "source": [
    "**Note: Hence, we have seen that scaler muliplication doesn't applies to sets and tuples but to the arrays**"
   ]
  },
  {
   "cell_type": "code",
   "execution_count": 43,
   "metadata": {},
   "outputs": [
    {
     "data": {
      "text/plain": [
       "array([[0.96236266, 0.15857018, 0.31074468, 0.11091162],\n",
       "       [0.6248295 , 0.84473509, 0.91059457, 0.5209061 ],\n",
       "       [0.88249603, 0.2866121 , 0.65960194, 0.18323711],\n",
       "       [0.38956789, 0.5913872 , 0.40908893, 0.6916598 ]])"
      ]
     },
     "execution_count": 43,
     "metadata": {},
     "output_type": "execute_result"
    }
   ],
   "source": [
    "A = np.random.random((4,4))\n",
    "A"
   ]
  },
  {
   "cell_type": "code",
   "execution_count": 44,
   "metadata": {},
   "outputs": [
    {
     "data": {
      "text/plain": [
       "array([[0.48118133, 0.07928509, 0.15537234, 0.05545581],\n",
       "       [0.31241475, 0.42236754, 0.45529728, 0.26045305],\n",
       "       [0.44124801, 0.14330605, 0.32980097, 0.09161856],\n",
       "       [0.19478394, 0.2956936 , 0.20454446, 0.3458299 ]])"
      ]
     },
     "execution_count": 44,
     "metadata": {},
     "output_type": "execute_result"
    }
   ],
   "source": [
    "# The custom formula applied to the array\n",
    "foo(A)"
   ]
  },
  {
   "cell_type": "code",
   "execution_count": 45,
   "metadata": {},
   "outputs": [
    {
     "data": {
      "text/plain": [
       "array([0. , 0.5, 1. , 1.5, 2. , 2.5, 3. , 3.5, 4. , 4.5])"
      ]
     },
     "execution_count": 45,
     "metadata": {},
     "output_type": "execute_result"
    }
   ],
   "source": [
    "foo(a)"
   ]
  },
  {
   "cell_type": "code",
   "execution_count": 47,
   "metadata": {},
   "outputs": [
    {
     "data": {
      "text/plain": [
       "(array([0.71841755, 0.88165728, 0.93669599, 0.58346447, 0.16838866,\n",
       "        0.55885193, 0.00230508, 0.58545014, 0.92685402, 0.69196803,\n",
       "        0.35960892, 0.08702539]),\n",
       " (12,))"
      ]
     },
     "execution_count": 47,
     "metadata": {},
     "output_type": "execute_result"
    }
   ],
   "source": [
    "# Here as i used the single bracket, hence it is a 1-D array\n",
    "a = np.random.random(12)\n",
    "a , a.shape"
   ]
  },
  {
   "cell_type": "code",
   "execution_count": 48,
   "metadata": {},
   "outputs": [
    {
     "data": {
      "text/plain": [
       "(array([[0.76952818, 0.41261286, 0.2865208 ],\n",
       "        [0.48407617, 0.93153722, 0.9109652 ],\n",
       "        [0.75973709, 0.29997259, 0.07878365],\n",
       "        [0.26344853, 0.21331753, 0.88188419]]),\n",
       " (4, 3))"
      ]
     },
     "execution_count": 48,
     "metadata": {},
     "output_type": "execute_result"
    }
   ],
   "source": [
    "# Here we have passed a tuple, hence it is a matrix\n",
    "np.random.random((4, 3)) , np.random.random((4, 3)).shape"
   ]
  },
  {
   "cell_type": "code",
   "execution_count": 49,
   "metadata": {},
   "outputs": [
    {
     "data": {
      "text/plain": [
       "array([[0.8 , 0.76, 0.22],\n",
       "       [0.12, 0.54, 0.06],\n",
       "       [0.06, 0.85, 0.92],\n",
       "       [0.58, 0.23, 0.45]])"
      ]
     },
     "execution_count": 49,
     "metadata": {},
     "output_type": "execute_result"
    }
   ],
   "source": [
    "# Resulting 2-D array would have 4 rows\n",
    "data = np.array([[0.8 , 0.76 , 0.22],[0.12 , 0.54, 0.06],[0.06, 0.85, 0.92],[0.58, 0.23, 0.45]])\n",
    "data"
   ]
  },
  {
   "cell_type": "markdown",
   "metadata": {},
   "source": [
    "**Note: We can also save the numpy data as 'npy' file and load that as well** "
   ]
  },
  {
   "cell_type": "code",
   "execution_count": null,
   "metadata": {},
   "outputs": [],
   "source": [
    "# Saved the data \n",
    "# Here we have 2 arguments: first (name of the array) & second (the array which we want to save)\n",
    "np.save('data_1' , data)"
   ]
  },
  {
   "cell_type": "code",
   "execution_count": null,
   "metadata": {},
   "outputs": [],
   "source": [
    "# Load the data\n",
    "# It have just one argument which is the name of the saved array\n",
    "data_2 = np.load('data_1.npy')"
   ]
  },
  {
   "cell_type": "markdown",
   "metadata": {},
   "source": [
    "**np.save & np.load**"
   ]
  },
  {
   "cell_type": "code",
   "execution_count": null,
   "metadata": {},
   "outputs": [],
   "source": [
    "data_2"
   ]
  },
  {
   "cell_type": "markdown",
   "metadata": {},
   "source": [
    "**Create an array which is a copy of another object (in terms of rows, columns & datatype)** "
   ]
  },
  {
   "cell_type": "code",
   "execution_count": 50,
   "metadata": {},
   "outputs": [
    {
     "data": {
      "text/html": [
       "<div>\n",
       "<style scoped>\n",
       "    .dataframe tbody tr th:only-of-type {\n",
       "        vertical-align: middle;\n",
       "    }\n",
       "\n",
       "    .dataframe tbody tr th {\n",
       "        vertical-align: top;\n",
       "    }\n",
       "\n",
       "    .dataframe thead th {\n",
       "        text-align: right;\n",
       "    }\n",
       "</style>\n",
       "<table border=\"1\" class=\"dataframe\">\n",
       "  <thead>\n",
       "    <tr style=\"text-align: right;\">\n",
       "      <th></th>\n",
       "      <th>n_bhk</th>\n",
       "      <th>surface</th>\n",
       "      <th>price</th>\n",
       "      <th>club_house</th>\n",
       "      <th>school</th>\n",
       "      <th>hospital</th>\n",
       "      <th>mall</th>\n",
       "      <th>park</th>\n",
       "      <th>pool</th>\n",
       "      <th>gym</th>\n",
       "      <th>...</th>\n",
       "      <th>sa3</th>\n",
       "      <th>sa4</th>\n",
       "      <th>sa5</th>\n",
       "      <th>sa6</th>\n",
       "      <th>sa7</th>\n",
       "      <th>sa8</th>\n",
       "      <th>sa9</th>\n",
       "      <th>sa10</th>\n",
       "      <th>sa11</th>\n",
       "      <th>sa12</th>\n",
       "    </tr>\n",
       "  </thead>\n",
       "  <tbody>\n",
       "    <tr>\n",
       "      <th>0</th>\n",
       "      <td>1.0</td>\n",
       "      <td>492.0</td>\n",
       "      <td>3.9</td>\n",
       "      <td>1</td>\n",
       "      <td>1</td>\n",
       "      <td>1</td>\n",
       "      <td>1</td>\n",
       "      <td>1</td>\n",
       "      <td>1</td>\n",
       "      <td>1</td>\n",
       "      <td>...</td>\n",
       "      <td>0</td>\n",
       "      <td>0</td>\n",
       "      <td>0</td>\n",
       "      <td>0</td>\n",
       "      <td>0</td>\n",
       "      <td>0</td>\n",
       "      <td>0</td>\n",
       "      <td>0</td>\n",
       "      <td>0</td>\n",
       "      <td>0</td>\n",
       "    </tr>\n",
       "    <tr>\n",
       "      <th>1</th>\n",
       "      <td>2.0</td>\n",
       "      <td>774.0</td>\n",
       "      <td>6.5</td>\n",
       "      <td>1</td>\n",
       "      <td>1</td>\n",
       "      <td>1</td>\n",
       "      <td>1</td>\n",
       "      <td>1</td>\n",
       "      <td>1</td>\n",
       "      <td>1</td>\n",
       "      <td>...</td>\n",
       "      <td>0</td>\n",
       "      <td>0</td>\n",
       "      <td>0</td>\n",
       "      <td>0</td>\n",
       "      <td>0</td>\n",
       "      <td>0</td>\n",
       "      <td>0</td>\n",
       "      <td>0</td>\n",
       "      <td>0</td>\n",
       "      <td>0</td>\n",
       "    </tr>\n",
       "    <tr>\n",
       "      <th>2</th>\n",
       "      <td>3.0</td>\n",
       "      <td>889.0</td>\n",
       "      <td>7.4</td>\n",
       "      <td>1</td>\n",
       "      <td>1</td>\n",
       "      <td>1</td>\n",
       "      <td>1</td>\n",
       "      <td>1</td>\n",
       "      <td>1</td>\n",
       "      <td>1</td>\n",
       "      <td>...</td>\n",
       "      <td>0</td>\n",
       "      <td>0</td>\n",
       "      <td>0</td>\n",
       "      <td>0</td>\n",
       "      <td>0</td>\n",
       "      <td>0</td>\n",
       "      <td>0</td>\n",
       "      <td>0</td>\n",
       "      <td>0</td>\n",
       "      <td>0</td>\n",
       "    </tr>\n",
       "    <tr>\n",
       "      <th>3</th>\n",
       "      <td>3.0</td>\n",
       "      <td>1018.0</td>\n",
       "      <td>8.9</td>\n",
       "      <td>1</td>\n",
       "      <td>1</td>\n",
       "      <td>1</td>\n",
       "      <td>1</td>\n",
       "      <td>1</td>\n",
       "      <td>1</td>\n",
       "      <td>1</td>\n",
       "      <td>...</td>\n",
       "      <td>0</td>\n",
       "      <td>0</td>\n",
       "      <td>0</td>\n",
       "      <td>0</td>\n",
       "      <td>0</td>\n",
       "      <td>0</td>\n",
       "      <td>0</td>\n",
       "      <td>0</td>\n",
       "      <td>0</td>\n",
       "      <td>0</td>\n",
       "    </tr>\n",
       "    <tr>\n",
       "      <th>4</th>\n",
       "      <td>2.0</td>\n",
       "      <td>743.0</td>\n",
       "      <td>7.4</td>\n",
       "      <td>1</td>\n",
       "      <td>1</td>\n",
       "      <td>1</td>\n",
       "      <td>1</td>\n",
       "      <td>1</td>\n",
       "      <td>1</td>\n",
       "      <td>1</td>\n",
       "      <td>...</td>\n",
       "      <td>0</td>\n",
       "      <td>0</td>\n",
       "      <td>0</td>\n",
       "      <td>0</td>\n",
       "      <td>0</td>\n",
       "      <td>1</td>\n",
       "      <td>0</td>\n",
       "      <td>0</td>\n",
       "      <td>0</td>\n",
       "      <td>0</td>\n",
       "    </tr>\n",
       "  </tbody>\n",
       "</table>\n",
       "<p>5 rows × 22 columns</p>\n",
       "</div>"
      ],
      "text/plain": [
       "   n_bhk  surface  price  club_house  school  hospital  mall  park  pool  gym  \\\n",
       "0    1.0    492.0    3.9           1       1         1     1     1     1    1   \n",
       "1    2.0    774.0    6.5           1       1         1     1     1     1    1   \n",
       "2    3.0    889.0    7.4           1       1         1     1     1     1    1   \n",
       "3    3.0   1018.0    8.9           1       1         1     1     1     1    1   \n",
       "4    2.0    743.0    7.4           1       1         1     1     1     1    1   \n",
       "\n",
       "   ...  sa3  sa4  sa5  sa6  sa7  sa8  sa9  sa10  sa11  sa12  \n",
       "0  ...    0    0    0    0    0    0    0     0     0     0  \n",
       "1  ...    0    0    0    0    0    0    0     0     0     0  \n",
       "2  ...    0    0    0    0    0    0    0     0     0     0  \n",
       "3  ...    0    0    0    0    0    0    0     0     0     0  \n",
       "4  ...    0    0    0    0    0    1    0     0     0     0  \n",
       "\n",
       "[5 rows x 22 columns]"
      ]
     },
     "execution_count": 50,
     "metadata": {},
     "output_type": "execute_result"
    }
   ],
   "source": [
    "# Data imported\n",
    "file_path = \"C:\\Personal\\Carrier Path\\Data_Scientist\\Accumulated_content\\Python\\Practice_Data/\"\n",
    "data = pd.read_csv(file_path + 'project_1.1.csv')\n",
    "data.drop(columns = ['Unnamed: 0'] , inplace = True)\n",
    "data.head()"
   ]
  },
  {
   "cell_type": "code",
   "execution_count": 51,
   "metadata": {},
   "outputs": [
    {
     "data": {
      "text/html": [
       "<div>\n",
       "<style scoped>\n",
       "    .dataframe tbody tr th:only-of-type {\n",
       "        vertical-align: middle;\n",
       "    }\n",
       "\n",
       "    .dataframe tbody tr th {\n",
       "        vertical-align: top;\n",
       "    }\n",
       "\n",
       "    .dataframe thead th {\n",
       "        text-align: right;\n",
       "    }\n",
       "</style>\n",
       "<table border=\"1\" class=\"dataframe\">\n",
       "  <thead>\n",
       "    <tr style=\"text-align: right;\">\n",
       "      <th></th>\n",
       "      <th>n_bhk</th>\n",
       "      <th>surface</th>\n",
       "      <th>price</th>\n",
       "      <th>club_house</th>\n",
       "      <th>school</th>\n",
       "      <th>hospital</th>\n",
       "      <th>mall</th>\n",
       "      <th>park</th>\n",
       "      <th>pool</th>\n",
       "      <th>gym</th>\n",
       "    </tr>\n",
       "  </thead>\n",
       "  <tbody>\n",
       "    <tr>\n",
       "      <th>n_bhk</th>\n",
       "      <td>1.000000</td>\n",
       "      <td>0.875115</td>\n",
       "      <td>0.695072</td>\n",
       "      <td>0.041387</td>\n",
       "      <td>-0.009743</td>\n",
       "      <td>-0.009743</td>\n",
       "      <td>-0.009743</td>\n",
       "      <td>0.022201</td>\n",
       "      <td>0.224389</td>\n",
       "      <td>0.006450</td>\n",
       "    </tr>\n",
       "    <tr>\n",
       "      <th>surface</th>\n",
       "      <td>0.875115</td>\n",
       "      <td>1.000000</td>\n",
       "      <td>0.882181</td>\n",
       "      <td>0.081925</td>\n",
       "      <td>-0.039362</td>\n",
       "      <td>-0.039362</td>\n",
       "      <td>-0.039362</td>\n",
       "      <td>0.052562</td>\n",
       "      <td>0.266961</td>\n",
       "      <td>0.064589</td>\n",
       "    </tr>\n",
       "    <tr>\n",
       "      <th>price</th>\n",
       "      <td>0.695072</td>\n",
       "      <td>0.882181</td>\n",
       "      <td>1.000000</td>\n",
       "      <td>0.020031</td>\n",
       "      <td>-0.043156</td>\n",
       "      <td>-0.043156</td>\n",
       "      <td>-0.043156</td>\n",
       "      <td>0.078556</td>\n",
       "      <td>0.292248</td>\n",
       "      <td>0.056582</td>\n",
       "    </tr>\n",
       "    <tr>\n",
       "      <th>club_house</th>\n",
       "      <td>0.041387</td>\n",
       "      <td>0.081925</td>\n",
       "      <td>0.020031</td>\n",
       "      <td>1.000000</td>\n",
       "      <td>0.104627</td>\n",
       "      <td>0.104627</td>\n",
       "      <td>0.104627</td>\n",
       "      <td>0.246441</td>\n",
       "      <td>0.378142</td>\n",
       "      <td>0.363402</td>\n",
       "    </tr>\n",
       "    <tr>\n",
       "      <th>school</th>\n",
       "      <td>-0.009743</td>\n",
       "      <td>-0.039362</td>\n",
       "      <td>-0.043156</td>\n",
       "      <td>0.104627</td>\n",
       "      <td>1.000000</td>\n",
       "      <td>1.000000</td>\n",
       "      <td>1.000000</td>\n",
       "      <td>0.025784</td>\n",
       "      <td>0.136320</td>\n",
       "      <td>0.087657</td>\n",
       "    </tr>\n",
       "    <tr>\n",
       "      <th>hospital</th>\n",
       "      <td>-0.009743</td>\n",
       "      <td>-0.039362</td>\n",
       "      <td>-0.043156</td>\n",
       "      <td>0.104627</td>\n",
       "      <td>1.000000</td>\n",
       "      <td>1.000000</td>\n",
       "      <td>1.000000</td>\n",
       "      <td>0.025784</td>\n",
       "      <td>0.136320</td>\n",
       "      <td>0.087657</td>\n",
       "    </tr>\n",
       "    <tr>\n",
       "      <th>mall</th>\n",
       "      <td>-0.009743</td>\n",
       "      <td>-0.039362</td>\n",
       "      <td>-0.043156</td>\n",
       "      <td>0.104627</td>\n",
       "      <td>1.000000</td>\n",
       "      <td>1.000000</td>\n",
       "      <td>1.000000</td>\n",
       "      <td>0.025784</td>\n",
       "      <td>0.136320</td>\n",
       "      <td>0.087657</td>\n",
       "    </tr>\n",
       "    <tr>\n",
       "      <th>park</th>\n",
       "      <td>0.022201</td>\n",
       "      <td>0.052562</td>\n",
       "      <td>0.078556</td>\n",
       "      <td>0.246441</td>\n",
       "      <td>0.025784</td>\n",
       "      <td>0.025784</td>\n",
       "      <td>0.025784</td>\n",
       "      <td>1.000000</td>\n",
       "      <td>0.189147</td>\n",
       "      <td>-0.071196</td>\n",
       "    </tr>\n",
       "    <tr>\n",
       "      <th>pool</th>\n",
       "      <td>0.224389</td>\n",
       "      <td>0.266961</td>\n",
       "      <td>0.292248</td>\n",
       "      <td>0.378142</td>\n",
       "      <td>0.136320</td>\n",
       "      <td>0.136320</td>\n",
       "      <td>0.136320</td>\n",
       "      <td>0.189147</td>\n",
       "      <td>1.000000</td>\n",
       "      <td>0.347927</td>\n",
       "    </tr>\n",
       "    <tr>\n",
       "      <th>gym</th>\n",
       "      <td>0.006450</td>\n",
       "      <td>0.064589</td>\n",
       "      <td>0.056582</td>\n",
       "      <td>0.363402</td>\n",
       "      <td>0.087657</td>\n",
       "      <td>0.087657</td>\n",
       "      <td>0.087657</td>\n",
       "      <td>-0.071196</td>\n",
       "      <td>0.347927</td>\n",
       "      <td>1.000000</td>\n",
       "    </tr>\n",
       "  </tbody>\n",
       "</table>\n",
       "</div>"
      ],
      "text/plain": [
       "               n_bhk   surface     price  club_house    school  hospital  \\\n",
       "n_bhk       1.000000  0.875115  0.695072    0.041387 -0.009743 -0.009743   \n",
       "surface     0.875115  1.000000  0.882181    0.081925 -0.039362 -0.039362   \n",
       "price       0.695072  0.882181  1.000000    0.020031 -0.043156 -0.043156   \n",
       "club_house  0.041387  0.081925  0.020031    1.000000  0.104627  0.104627   \n",
       "school     -0.009743 -0.039362 -0.043156    0.104627  1.000000  1.000000   \n",
       "hospital   -0.009743 -0.039362 -0.043156    0.104627  1.000000  1.000000   \n",
       "mall       -0.009743 -0.039362 -0.043156    0.104627  1.000000  1.000000   \n",
       "park        0.022201  0.052562  0.078556    0.246441  0.025784  0.025784   \n",
       "pool        0.224389  0.266961  0.292248    0.378142  0.136320  0.136320   \n",
       "gym         0.006450  0.064589  0.056582    0.363402  0.087657  0.087657   \n",
       "\n",
       "                mall      park      pool       gym  \n",
       "n_bhk      -0.009743  0.022201  0.224389  0.006450  \n",
       "surface    -0.039362  0.052562  0.266961  0.064589  \n",
       "price      -0.043156  0.078556  0.292248  0.056582  \n",
       "club_house  0.104627  0.246441  0.378142  0.363402  \n",
       "school      1.000000  0.025784  0.136320  0.087657  \n",
       "hospital    1.000000  0.025784  0.136320  0.087657  \n",
       "mall        1.000000  0.025784  0.136320  0.087657  \n",
       "park        0.025784  1.000000  0.189147 -0.071196  \n",
       "pool        0.136320  0.189147  1.000000  0.347927  \n",
       "gym         0.087657 -0.071196  0.347927  1.000000  "
      ]
     },
     "execution_count": 51,
     "metadata": {},
     "output_type": "execute_result"
    }
   ],
   "source": [
    "# Correlation matrix\n",
    "correl = data[['n_bhk','surface','price','club_house','school','hospital','mall','park','pool','gym']].corr()\n",
    "correl"
   ]
  },
  {
   "cell_type": "code",
   "execution_count": 52,
   "metadata": {},
   "outputs": [
    {
     "data": {
      "text/plain": [
       "array([[False, False, False, False, False, False, False, False, False,\n",
       "        False],\n",
       "       [False, False, False, False, False, False, False, False, False,\n",
       "        False],\n",
       "       [False, False, False, False, False, False, False, False, False,\n",
       "        False],\n",
       "       [False, False, False, False, False, False, False, False, False,\n",
       "        False],\n",
       "       [False, False, False, False, False, False, False, False, False,\n",
       "        False],\n",
       "       [False, False, False, False, False, False, False, False, False,\n",
       "        False],\n",
       "       [False, False, False, False, False, False, False, False, False,\n",
       "        False],\n",
       "       [False, False, False, False, False, False, False, False, False,\n",
       "        False],\n",
       "       [False, False, False, False, False, False, False, False, False,\n",
       "        False],\n",
       "       [False, False, False, False, False, False, False, False, False,\n",
       "        False]])"
      ]
     },
     "execution_count": 52,
     "metadata": {},
     "output_type": "execute_result"
    }
   ],
   "source": [
    "# We have build an infrastructure (in terms of an array) coping the object 'correl'. We also specified the datatype as well\n",
    "# Every element is False because because value is 0 \n",
    "mask = np.zeros_like(correl , dtype = np.bool_)\n",
    "mask"
   ]
  },
  {
   "cell_type": "code",
   "execution_count": 53,
   "metadata": {},
   "outputs": [
    {
     "data": {
      "text/plain": [
       "array([[0., 0., 0., 0., 0., 0., 0., 0., 0., 0.],\n",
       "       [0., 0., 0., 0., 0., 0., 0., 0., 0., 0.],\n",
       "       [0., 0., 0., 0., 0., 0., 0., 0., 0., 0.],\n",
       "       [0., 0., 0., 0., 0., 0., 0., 0., 0., 0.],\n",
       "       [0., 0., 0., 0., 0., 0., 0., 0., 0., 0.],\n",
       "       [0., 0., 0., 0., 0., 0., 0., 0., 0., 0.],\n",
       "       [0., 0., 0., 0., 0., 0., 0., 0., 0., 0.],\n",
       "       [0., 0., 0., 0., 0., 0., 0., 0., 0., 0.],\n",
       "       [0., 0., 0., 0., 0., 0., 0., 0., 0., 0.],\n",
       "       [0., 0., 0., 0., 0., 0., 0., 0., 0., 0.]])"
      ]
     },
     "execution_count": 53,
     "metadata": {},
     "output_type": "execute_result"
    }
   ],
   "source": [
    "np.zeros_like(correl )"
   ]
  },
  {
   "cell_type": "markdown",
   "metadata": {},
   "source": [
    "**np.zeros_like(data , dtype)**\n",
    "* This function creates an array of zeros with the same shape and data type as the input array.\n",
    "* **data** : This is an object. The new array will have the same shape and data type as this object.\n",
    "* **dtype=np.bool_** : This specifies the data type of the new array. In this case, it's set to boolean (bool_).\n",
    "***\n",
    "**Ques: Why initially all the entries in the matrix 'mask' have 'False' label?**\n",
    "* When creating a boolean array using np.zeros_like with the dtype=np.bool_ parameter, the default fill value is False"
   ]
  },
  {
   "cell_type": "markdown",
   "metadata": {},
   "source": [
    "# Change values in an array"
   ]
  },
  {
   "cell_type": "code",
   "execution_count": 54,
   "metadata": {},
   "outputs": [
    {
     "data": {
      "text/plain": [
       "array([[1, 2, 3],\n",
       "       [4, 5, 6],\n",
       "       [7, 8, 9]])"
      ]
     },
     "execution_count": 54,
     "metadata": {},
     "output_type": "execute_result"
    }
   ],
   "source": [
    "a = np.array([[1,2,3] , [4,5,6], [7,8,9]])\n",
    "a"
   ]
  },
  {
   "cell_type": "code",
   "execution_count": null,
   "metadata": {},
   "outputs": [],
   "source": [
    "np.triu_indices_from(a)"
   ]
  },
  {
   "cell_type": "markdown",
   "metadata": {},
   "source": [
    "**triu_indices_from()**\n",
    "* This function, triu_indices_from, returns the indices for the upper triangular part of a 2-D array. "
   ]
  },
  {
   "cell_type": "code",
   "execution_count": null,
   "metadata": {},
   "outputs": [],
   "source": [
    "# It assigns the value to those indices which were identified by 'np.triu_indices_from(a)'\n",
    "a[np.triu_indices_from(a)] = 10"
   ]
  },
  {
   "cell_type": "code",
   "execution_count": null,
   "metadata": {},
   "outputs": [],
   "source": [
    "a"
   ]
  },
  {
   "cell_type": "markdown",
   "metadata": {},
   "source": [
    "# Create dictionary using the Zip function "
   ]
  },
  {
   "cell_type": "code",
   "execution_count": 55,
   "metadata": {},
   "outputs": [],
   "source": [
    "# List \n",
    "name = ['A', 'B', 'C', 'D']\n",
    "Number = [12, 13, 14, 15]"
   ]
  },
  {
   "cell_type": "code",
   "execution_count": 56,
   "metadata": {},
   "outputs": [
    {
     "data": {
      "text/plain": [
       "<zip at 0x178da600500>"
      ]
     },
     "execution_count": 56,
     "metadata": {},
     "output_type": "execute_result"
    }
   ],
   "source": [
    "# Here 'name' is the key and 'Number' is the values\n",
    "pair = zip(name, Number)\n",
    "pair"
   ]
  },
  {
   "cell_type": "code",
   "execution_count": 57,
   "metadata": {},
   "outputs": [
    {
     "data": {
      "text/plain": [
       "{('A', 12), ('B', 13), ('C', 14), ('D', 15)}"
      ]
     },
     "execution_count": 57,
     "metadata": {},
     "output_type": "execute_result"
    }
   ],
   "source": [
    "# Created a set of the zip elements\n",
    "set(pair)"
   ]
  },
  {
   "cell_type": "code",
   "execution_count": 58,
   "metadata": {},
   "outputs": [
    {
     "data": {
      "text/plain": [
       "set"
      ]
     },
     "execution_count": 58,
     "metadata": {},
     "output_type": "execute_result"
    }
   ],
   "source": [
    "type(set(pair))"
   ]
  },
  {
   "cell_type": "code",
   "execution_count": 59,
   "metadata": {},
   "outputs": [
    {
     "data": {
      "text/plain": [
       "{}"
      ]
     },
     "execution_count": 59,
     "metadata": {},
     "output_type": "execute_result"
    }
   ],
   "source": [
    "# Created a dictionary using the zip \n",
    "dict(pair)"
   ]
  },
  {
   "cell_type": "code",
   "execution_count": 60,
   "metadata": {},
   "outputs": [
    {
     "data": {
      "text/plain": [
       "{'A': 12, 'B': 13, 'C': 14, 'D': 15}"
      ]
     },
     "execution_count": 60,
     "metadata": {},
     "output_type": "execute_result"
    }
   ],
   "source": [
    "dict(zip(name, Number))"
   ]
  },
  {
   "cell_type": "markdown",
   "metadata": {},
   "source": [
    "* Here we can see the difference between a set and the dictionary\n",
    "* A dictionary have a key and a value"
   ]
  },
  {
   "cell_type": "markdown",
   "metadata": {},
   "source": [
    "**Example:1 Creating Dictionary using for loop**"
   ]
  },
  {
   "cell_type": "code",
   "execution_count": 61,
   "metadata": {},
   "outputs": [
    {
     "data": {
      "text/plain": [
       "{}"
      ]
     },
     "execution_count": 61,
     "metadata": {},
     "output_type": "execute_result"
    }
   ],
   "source": [
    "# we initialised the dictionary object\n",
    "dictionary = dict()\n",
    "dictionary"
   ]
  },
  {
   "cell_type": "code",
   "execution_count": 62,
   "metadata": {},
   "outputs": [
    {
     "data": {
      "text/plain": [
       "{2: 'Gaurav'}"
      ]
     },
     "execution_count": 62,
     "metadata": {},
     "output_type": "execute_result"
    }
   ],
   "source": [
    "# This is also the way we can create a dictionary quite easily. And it also open up it to use the for loop \n",
    "dictionary[2] = \"Gaurav\"\n",
    "dictionary"
   ]
  },
  {
   "cell_type": "code",
   "execution_count": 63,
   "metadata": {},
   "outputs": [],
   "source": [
    "name = ['A', 'B', 'C', 'D']\n",
    "Number = [12, 13, 14, 15]"
   ]
  },
  {
   "cell_type": "code",
   "execution_count": 64,
   "metadata": {},
   "outputs": [],
   "source": [
    "num_dict = dict()"
   ]
  },
  {
   "cell_type": "code",
   "execution_count": 65,
   "metadata": {},
   "outputs": [],
   "source": [
    "for a,b in zip(name , Number):\n",
    "    num_dict[a] = b "
   ]
  },
  {
   "cell_type": "code",
   "execution_count": 66,
   "metadata": {},
   "outputs": [
    {
     "data": {
      "text/plain": [
       "{'A': 12, 'B': 13, 'C': 14, 'D': 15}"
      ]
     },
     "execution_count": 66,
     "metadata": {},
     "output_type": "execute_result"
    }
   ],
   "source": [
    "num_dict"
   ]
  },
  {
   "cell_type": "markdown",
   "metadata": {},
   "source": [
    "# Map() function"
   ]
  },
  {
   "cell_type": "markdown",
   "metadata": {},
   "source": [
    "# Meshgrid"
   ]
  },
  {
   "cell_type": "markdown",
   "metadata": {},
   "source": [
    "* Meshgrid turns one-dimensional NumPy arrays into grids called matrices. \n",
    "* If we pass two NumPy arrays into meshgrid, we get two matrices back. Below we use meshgrid to create two grids from two array.\n",
    "* The grids, or matrices, that meshgrid generates are suitable for matrix math and plotting, among other things."
   ]
  },
  {
   "cell_type": "code",
   "execution_count": 67,
   "metadata": {},
   "outputs": [],
   "source": [
    "array_a = [1,2,3,4,5]\n",
    "array_b = [10, 20, 30 , 40]"
   ]
  },
  {
   "cell_type": "code",
   "execution_count": 68,
   "metadata": {},
   "outputs": [],
   "source": [
    "XX , YY = np.meshgrid(array_a , array_b)"
   ]
  },
  {
   "cell_type": "code",
   "execution_count": 69,
   "metadata": {},
   "outputs": [
    {
     "data": {
      "text/plain": [
       "(array([[1, 2, 3, 4, 5],\n",
       "        [1, 2, 3, 4, 5],\n",
       "        [1, 2, 3, 4, 5],\n",
       "        [1, 2, 3, 4, 5]]),\n",
       " array([[10, 10, 10, 10, 10],\n",
       "        [20, 20, 20, 20, 20],\n",
       "        [30, 30, 30, 30, 30],\n",
       "        [40, 40, 40, 40, 40]]))"
      ]
     },
     "execution_count": 69,
     "metadata": {},
     "output_type": "execute_result"
    }
   ],
   "source": [
    "XX , YY"
   ]
  },
  {
   "cell_type": "markdown",
   "metadata": {},
   "source": [
    "* In the first matrix, every column has a different number. In the second matrix, every row has a different number. Placing these two matrices on top of one another gives us every possible combination between the values of array_a and the values of array_b. "
   ]
  },
  {
   "cell_type": "code",
   "execution_count": null,
   "metadata": {},
   "outputs": [],
   "source": []
  }
 ],
 "metadata": {
  "kernelspec": {
   "display_name": "Python 3",
   "language": "python",
   "name": "python3"
  },
  "language_info": {
   "codemirror_mode": {
    "name": "ipython",
    "version": 3
   },
   "file_extension": ".py",
   "mimetype": "text/x-python",
   "name": "python",
   "nbconvert_exporter": "python",
   "pygments_lexer": "ipython3",
   "version": "3.8.5"
  }
 },
 "nbformat": 4,
 "nbformat_minor": 4
}
