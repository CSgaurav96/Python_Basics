{
 "cells": [
  {
   "cell_type": "markdown",
   "metadata": {},
   "source": [
    "# Difference between plotly and matplotlib.pyplot\n",
    "* Pyplot is a module in the matplotlib library in Python that provides a set of functions for creating and manipulating figures and plots. It is based on the MATLAB plotting API and is intended to be used in a similar way.\n",
    "* **Plotly, on the other hand, is a separate library for creating interactive, online visualizations in Python**. It is built on top of the D3.js JavaScript library and can be used to create a wide variety of plots, including scatter plots, bar charts, and heatmaps.\n",
    "* Pyplot is a simple and easy-to-use library for creating static plots, while **Plotly is a more powerful library for creating interactive and online visualizations.**"
   ]
  },
  {
   "cell_type": "markdown",
   "metadata": {},
   "source": [
    "# Key areas where plotly is different from other visualization library"
   ]
  },
  {
   "cell_type": "markdown",
   "metadata": {},
   "source": [
    "**Interactivity** \n",
    "* This is where Plotly shines. It enables interactivity by allowing users to hover over data points for more information, zoom in and out, pan across the graph, and more. These interactions are built into the Plotly.js library.\n",
    "***\n",
    "**Rendering**\n",
    "* Once you've configured the graph, you can render it in a web browser. Plotly.js leverages the capabilities of modern browsers to display the graph with the specified interactivity.\n",
    "***\n",
    "**Embedding**\n",
    "* Plotly graphs can be easily embedded in web applications, notebooks, or dashboards. Plotly also provides APIs for various programming languages like Python, R, and Julia, making it versatile for different environments."
   ]
  },
  {
   "cell_type": "code",
   "execution_count": 1,
   "metadata": {},
   "outputs": [],
   "source": [
    "# To check whether this liabrary is installed or not \n",
    "import plotly"
   ]
  },
  {
   "cell_type": "code",
   "execution_count": 2,
   "metadata": {},
   "outputs": [
    {
     "name": "stdout",
     "output_type": "stream",
     "text": [
      "Collecting plotly\n",
      "  Using cached plotly-5.12.0-py2.py3-none-any.whl (15.2 MB)\n",
      "Collecting tenacity>=6.2.0\n",
      "  Using cached tenacity-8.1.0-py3-none-any.whl (23 kB)\n",
      "Installing collected packages: tenacity, plotly\n",
      "Successfully installed plotly-5.12.0 tenacity-8.1.0\n"
     ]
    }
   ],
   "source": [
    "!pip install plotly "
   ]
  },
  {
   "cell_type": "markdown",
   "metadata": {},
   "source": [
    "# Various modules in plotly library"
   ]
  },
  {
   "cell_type": "markdown",
   "metadata": {},
   "source": [
    "**graph_objects**\n",
    "* provides a high-level interface for creating a variety of charts and visualizations\n",
    "* It allows you to create complex, interactive plots using a syntax that closely mirrors the structure of the desired chart.\n",
    "* provides a more fine-grained control over the appearance and behavior of the plots, and allows you to create custom plots that are not available in the express module\n",
    "***\n",
    "**plotly.express**\n",
    "* A high-level interface for creating easy and quick visualizations with a simple syntax.\n",
    "* It automatically handles tasks such as data pre-processing, plot layout, and styling, making it easy to create plots and explore data interactively.\n",
    "***\n",
    "**plotly.subplots**\n",
    "* Provides tools for creating subplots within a single figure.\n",
    "***\n",
    "**plotly.figure_factory**\n",
    "* Useful for creating complex charts like histograms, violin plots, and more.\n",
    "***\n",
    "**plotly.offline**\n",
    "* Allows you to create and manipulate Plotly charts offline, without the need for an internet connection.\n",
    "***\n",
    "**plotly.dash**\n",
    "* Although not strictly a part of Plotly, Dash is a related library for creating interactive web applications with Plotly visualizations."
   ]
  },
  {
   "cell_type": "markdown",
   "metadata": {},
   "source": [
    "# # What is plotly.io?\n",
    "* plotly.io is a sublibrary of the Plotly library for Python that provides functions for displaying Plotly figures in various formats, such as in Jupyter notebooks, as static images, or in web browsers.\n",
    "* Some of the main functions in plotly.io include show(), which is used to display a Plotly figure in a Jupyter notebook, and write_image(), which is used to export a Plotly figure as a static image file."
   ]
  },
  {
   "cell_type": "code",
   "execution_count": 5,
   "metadata": {},
   "outputs": [],
   "source": [
    "import plotly.io as pio"
   ]
  },
  {
   "cell_type": "code",
   "execution_count": 10,
   "metadata": {},
   "outputs": [],
   "source": [
    "pio.templates.default = 'plotly_white'\n",
    "# change the default template for all Plotly figures created in your session to the \"plotly_white\" template.\n",
    "# The \"plotly_white\" template is one of the built-in templates provided by Plotly and it gives the figure a white background with light grey grid lines and black axis labels"
   ]
  },
  {
   "cell_type": "code",
   "execution_count": 11,
   "metadata": {},
   "outputs": [
    {
     "name": "stdout",
     "output_type": "stream",
     "text": [
      "Templates configuration\n",
      "-----------------------\n",
      "    Default template: 'plotly_white'\n",
      "    Available templates:\n",
      "        ['ggplot2', 'seaborn', 'simple_white', 'plotly',\n",
      "         'plotly_white', 'plotly_dark', 'presentation', 'xgridoff',\n",
      "         'ygridoff', 'gridon', 'none']\n",
      "\n"
     ]
    }
   ],
   "source": [
    "# To see the various plot types in the plotly.io\n",
    "print(pio.templates)"
   ]
  }
 ],
 "metadata": {
  "kernelspec": {
   "display_name": "Python 3",
   "language": "python",
   "name": "python3"
  },
  "language_info": {
   "codemirror_mode": {
    "name": "ipython",
    "version": 3
   },
   "file_extension": ".py",
   "mimetype": "text/x-python",
   "name": "python",
   "nbconvert_exporter": "python",
   "pygments_lexer": "ipython3",
   "version": "3.8.5"
  }
 },
 "nbformat": 4,
 "nbformat_minor": 4
}
